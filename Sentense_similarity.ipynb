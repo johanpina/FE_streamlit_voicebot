{
 "cells": [
  {
   "cell_type": "code",
   "execution_count": 1,
   "metadata": {},
   "outputs": [],
   "source": [
    "import pandas as pd\n",
    "import numpy as np"
   ]
  },
  {
   "cell_type": "code",
   "execution_count": 2,
   "metadata": {},
   "outputs": [
    {
     "data": {
      "text/html": [
       "<div>\n",
       "<style scoped>\n",
       "    .dataframe tbody tr th:only-of-type {\n",
       "        vertical-align: middle;\n",
       "    }\n",
       "\n",
       "    .dataframe tbody tr th {\n",
       "        vertical-align: top;\n",
       "    }\n",
       "\n",
       "    .dataframe thead th {\n",
       "        text-align: right;\n",
       "    }\n",
       "</style>\n",
       "<table border=\"1\" class=\"dataframe\">\n",
       "  <thead>\n",
       "    <tr style=\"text-align: right;\">\n",
       "      <th></th>\n",
       "      <th>ROBO</th>\n",
       "      <th>COMPARENDO</th>\n",
       "      <th>ALTERACION DE LA TRANQUILIDAD</th>\n",
       "      <th>RIÑA</th>\n",
       "      <th>PICO Y PLACA</th>\n",
       "    </tr>\n",
       "  </thead>\n",
       "  <tbody>\n",
       "    <tr>\n",
       "      <th>0</th>\n",
       "      <td>Fui víctima de un robo.</td>\n",
       "      <td>Deseo obtener información acerca de una multa ...</td>\n",
       "      <td>Se está generando una gran cantidad de ruido e...</td>\n",
       "      <td>Deseo notificar la ocurrencia de una confronta...</td>\n",
       "      <td>Quisiera obtener información actualizada sobre...</td>\n",
       "    </tr>\n",
       "    <tr>\n",
       "      <th>1</th>\n",
       "      <td>He sido objeto de un acto delictivo, me sustra...</td>\n",
       "      <td>Estoy interesado en averiguar los detalles de ...</td>\n",
       "      <td>Observo que hay una elevada perturbación acúst...</td>\n",
       "      <td>Quiero informar sobre una situación de riña qu...</td>\n",
       "      <td>Por favor, ¿podría proporcionarme los detalles...</td>\n",
       "    </tr>\n",
       "    <tr>\n",
       "      <th>2</th>\n",
       "      <td>Lamentablemente, he sido despojado de mis obje...</td>\n",
       "      <td>Quisiera solicitar detalles sobre un comparend...</td>\n",
       "      <td>Es evidente que el nivel de ruido presente es ...</td>\n",
       "      <td>Necesito reportar un altercado físico y solici...</td>\n",
       "      <td>Me gustaría conocer el calendario de restricci...</td>\n",
       "    </tr>\n",
       "    <tr>\n",
       "      <th>3</th>\n",
       "      <td>Me encuentro en la situación de haber sido rob...</td>\n",
       "      <td>Necesito conocer más sobre una infracción de t...</td>\n",
       "      <td>Me gustaría señalar que el exceso de ruido est...</td>\n",
       "      <td>Estoy comunicándome para reportar un incidente...</td>\n",
       "      <td>¿Podría informarme sobre las regulaciones de c...</td>\n",
       "    </tr>\n",
       "    <tr>\n",
       "      <th>4</th>\n",
       "      <td>Quiero reportar un incidente de robo que afect...</td>\n",
       "      <td>Estoy buscando obtener información precisa sob...</td>\n",
       "      <td>Estoy notando que el volumen sonoro es alto y ...</td>\n",
       "      <td>Requiero asistencia para lidiar con una situac...</td>\n",
       "      <td>Necesito conocer el horario y las placas restr...</td>\n",
       "    </tr>\n",
       "  </tbody>\n",
       "</table>\n",
       "</div>"
      ],
      "text/plain": [
       "                                                ROBO  \\\n",
       "0                            Fui víctima de un robo.   \n",
       "1  He sido objeto de un acto delictivo, me sustra...   \n",
       "2  Lamentablemente, he sido despojado de mis obje...   \n",
       "3  Me encuentro en la situación de haber sido rob...   \n",
       "4  Quiero reportar un incidente de robo que afect...   \n",
       "\n",
       "                                          COMPARENDO  \\\n",
       "0  Deseo obtener información acerca de una multa ...   \n",
       "1  Estoy interesado en averiguar los detalles de ...   \n",
       "2  Quisiera solicitar detalles sobre un comparend...   \n",
       "3  Necesito conocer más sobre una infracción de t...   \n",
       "4  Estoy buscando obtener información precisa sob...   \n",
       "\n",
       "                       ALTERACION DE LA TRANQUILIDAD  \\\n",
       "0  Se está generando una gran cantidad de ruido e...   \n",
       "1  Observo que hay una elevada perturbación acúst...   \n",
       "2  Es evidente que el nivel de ruido presente es ...   \n",
       "3  Me gustaría señalar que el exceso de ruido est...   \n",
       "4  Estoy notando que el volumen sonoro es alto y ...   \n",
       "\n",
       "                                                RIÑA  \\\n",
       "0  Deseo notificar la ocurrencia de una confronta...   \n",
       "1  Quiero informar sobre una situación de riña qu...   \n",
       "2  Necesito reportar un altercado físico y solici...   \n",
       "3  Estoy comunicándome para reportar un incidente...   \n",
       "4  Requiero asistencia para lidiar con una situac...   \n",
       "\n",
       "                                        PICO Y PLACA  \n",
       "0  Quisiera obtener información actualizada sobre...  \n",
       "1  Por favor, ¿podría proporcionarme los detalles...  \n",
       "2  Me gustaría conocer el calendario de restricci...  \n",
       "3  ¿Podría informarme sobre las regulaciones de c...  \n",
       "4  Necesito conocer el horario y las placas restr...  "
      ]
     },
     "execution_count": 2,
     "metadata": {},
     "output_type": "execute_result"
    }
   ],
   "source": [
    "df = pd.read_excel('Policia_Cat.xlsx')\n",
    "df.head()"
   ]
  },
  {
   "cell_type": "code",
   "execution_count": 3,
   "metadata": {},
   "outputs": [
    {
     "name": "stdout",
     "output_type": "stream",
     "text": [
      "['Fui víctima de un robo.', 'Deseo obtener información acerca de una multa de tránsito que recibí.', 'Se está generando una gran cantidad de ruido en el lugar.', 'Deseo notificar la ocurrencia de una confrontación física para su registro y atención.', \"Quisiera obtener información actualizada sobre el horario de restricción vehicular 'pico y placa'.\", 'He sido objeto de un acto delictivo, me sustrajeron mis pertenencias.', 'Estoy interesado en averiguar los detalles de una sanción de tráfico que me impusieron.', 'Observo que hay una elevada perturbación acústica en este momento.', 'Quiero informar sobre una situación de riña que está teniendo lugar.', \"Por favor, ¿podría proporcionarme los detalles del esquema de 'pico y placa' para hoy?\", 'Lamentablemente, he sido despojado de mis objetos personales.', 'Quisiera solicitar detalles sobre un comparendo que me fue emitido.', 'Es evidente que el nivel de ruido presente es considerable y podría afectar el entorno.', 'Necesito reportar un altercado físico y solicitar intervención apropiada.', \"Me gustaría conocer el calendario de restricción de vehículos según el sistema 'pico y placa'.\", 'Me encuentro en la situación de haber sido robado.', 'Necesito conocer más sobre una infracción de tránsito que me aparece en mi registro.', 'Me gustaría señalar que el exceso de ruido está causando molestias en esta área.', 'Estoy comunicándome para reportar un incidente de pelea que requiere atención inmediata.', \"¿Podría informarme sobre las regulaciones de circulación bajo el esquema de 'pico y placa'?\", 'Quiero reportar un incidente de robo que afectó mis posesiones.', 'Estoy buscando obtener información precisa sobre un parte de tráfico que tengo.', 'Estoy notando que el volumen sonoro es alto y puede ser un problema para el ambiente.', 'Requiero asistencia para lidiar con una situación de riña que está ocurriendo en este momento.', \"Necesito conocer el horario y las placas restringidas para el 'pico y placa' de hoy.\", 'Parce, me atracaron', 'Oye, necesito averiguar qué pasa con esta multa de tránsito que me pusieron', 'Están armando un alboroto bien grande por ahí.', 'Oigan, hay una pelea aquí y necesitamos ayuda', \"Oye, ¿sabes a qué horas rige el 'pico y placa' hoy?\", 'Hermano, me robaron todas mis cosas', 'Amigo, ¿sabes cómo averiguar los detalles de un comparendo que me clavaron?', 'Qué ruido están haciendo, parece una fiesta', 'Amigos, están dándose golpes por aquí, alguien debería intervenir', \"Amigo, ¿me puedes decir cuándo aplica el 'pico y placa' para hoy?\", 'No vas a creerlo, me chocaron y me robaron todo', 'Parce, me metieron un parte de tráfico y quiero saber qué hacer', 'Amigo, están haciendo un escándalo tremendo, ¿no?', 'Epa, que alguien venga rápido, que se armó una pelea', \"Hola ¿Cuál es el rollo del 'pico y placa' hoy en día?\", 'Amigo, unos pillos me quitaron todo lo que tenía', 'Hola Me salió una multa, ¿tienes idea de cómo averiguar más al respecto?', '¿No sientes que están metiendo muchísimo ruido?', 'Necesitamos que vengan a calmar este lío, están peleando', \"¿Tienes idea de cuándo no puedo circular por el 'pico y placa'?\", 'Dios mío, me hicieron el retoque y se llevaron mis cosas', 'Ey, necesito echarle un ojo a esta sanción de tráfico que me cayó encima', 'Vaya bulla que tienen montada, es imposible concentrarse', 'Gente, están en plena pelea, llamen a alguien para que controle esto', \"¿Sabes si ya puedo sacar el carro o está en 'pico y placa' todavía?\"]\n"
     ]
    }
   ],
   "source": [
    "sentences = [item for row in df.values for item in row]\n",
    "print(sentences)"
   ]
  },
  {
   "cell_type": "code",
   "execution_count": 4,
   "metadata": {},
   "outputs": [
    {
     "name": "stderr",
     "output_type": "stream",
     "text": [
      "/Users/johanpina/People/Police_Similitud/venv/lib/python3.10/site-packages/tqdm/auto.py:21: TqdmWarning: IProgress not found. Please update jupyter and ipywidgets. See https://ipywidgets.readthedocs.io/en/stable/user_install.html\n",
      "  from .autonotebook import tqdm as notebook_tqdm\n",
      "Downloading (…)c7362/.gitattributes: 100%|██████████| 1.18k/1.18k [00:00<00:00, 741kB/s]\n",
      "Downloading (…)_Pooling/config.json: 100%|██████████| 190/190 [00:00<00:00, 560kB/s]\n",
      "Downloading (…)de792c7362/README.md: 100%|██████████| 4.51k/4.51k [00:00<00:00, 13.0MB/s]\n",
      "Downloading (…)792c7362/config.json: 100%|██████████| 701/701 [00:00<00:00, 2.43MB/s]\n",
      "Downloading (…)ce_transformers.json: 100%|██████████| 123/123 [00:00<00:00, 420kB/s]\n",
      "Downloading (…)c7362/eval/readme.md: 100%|██████████| 4.00/4.00 [00:00<00:00, 13.4kB/s]\n",
      "Downloading (…)_sts-dev_results.csv: 100%|██████████| 770/770 [00:00<00:00, 2.61MB/s]\n",
      "Downloading pytorch_model.bin: 100%|██████████| 439M/439M [00:08<00:00, 49.1MB/s] \n",
      "Downloading (…)nce_bert_config.json: 100%|██████████| 53.0/53.0 [00:00<00:00, 196kB/s]\n",
      "Downloading (…)-mt-test_results.csv: 100%|██████████| 299/299 [00:00<00:00, 1.33MB/s]\n",
      "Downloading (…)cial_tokens_map.json: 100%|██████████| 112/112 [00:00<00:00, 234kB/s]\n",
      "Downloading (…)c7362/tokenizer.json: 100%|██████████| 480k/480k [00:00<00:00, 3.71MB/s]\n",
      "Downloading (…)okenizer_config.json: 100%|██████████| 556/556 [00:00<00:00, 3.28MB/s]\n",
      "Downloading (…)de792c7362/vocab.txt: 100%|██████████| 242k/242k [00:00<00:00, 45.5MB/s]\n",
      "Downloading (…)92c7362/modules.json: 100%|██████████| 229/229 [00:00<00:00, 727kB/s]\n"
     ]
    },
    {
     "name": "stdout",
     "output_type": "stream",
     "text": [
      "[[-0.94508827  0.5050332   0.02433564 ... -0.3015223   0.47106183\n",
      "   1.1644135 ]\n",
      " [ 0.11463569  0.32867375 -0.5453961  ... -0.6786403  -0.3293717\n",
      "   1.2533573 ]\n",
      " [-0.44128695 -0.75961053 -0.58649635 ... -0.1367187  -0.7627054\n",
      "   0.1312185 ]\n",
      " ...\n",
      " [ 0.17536463  0.41790774 -0.6897122  ... -0.8798176   0.39408273\n",
      "  -0.45940068]\n",
      " [ 0.8202596  -1.1511698  -0.18209636 ... -0.45896947 -0.6669584\n",
      "   0.5050223 ]\n",
      " [-0.02697988 -0.81633484 -0.46748042 ...  0.08173949  0.16313651\n",
      "   1.2246262 ]]\n"
     ]
    }
   ],
   "source": [
    "from sentence_transformers import SentenceTransformer\n",
    "\n",
    "model = SentenceTransformer('hiiamsid/sentence_similarity_spanish_es')\n",
    "embeddings = model.encode(sentences)\n",
    "print(embeddings)"
   ]
  },
  {
   "cell_type": "code",
   "execution_count": 5,
   "metadata": {},
   "outputs": [],
   "source": [
    "prueba = \"me colabora que los vecinos hacen mucha bulla\"\n",
    "input = model.encode(prueba)"
   ]
  },
  {
   "cell_type": "code",
   "execution_count": 6,
   "metadata": {},
   "outputs": [],
   "source": [
    "from numpy.linalg import norm\n",
    "def cos_sim (A,B):\n",
    "  return np.dot(A,B)/(norm(A)*norm(B))"
   ]
  },
  {
   "cell_type": "code",
   "execution_count": 7,
   "metadata": {},
   "outputs": [],
   "source": [
    "similarity = [cos_sim(input,x) for x in embeddings]\n",
    "ind = np.argsort(similarity)[-5:]\n",
    "ind[:] = ind[::-1]"
   ]
  },
  {
   "cell_type": "code",
   "execution_count": 8,
   "metadata": {},
   "outputs": [
    {
     "name": "stdout",
     "output_type": "stream",
     "text": [
      "Están armando un alboroto bien grande por ahí. 0.56116843\n",
      "Me gustaría señalar que el exceso de ruido está causando molestias en esta área. 0.46838397\n",
      "Qué ruido están haciendo, parece una fiesta 0.45684803\n",
      "Vaya bulla que tienen montada, es imposible concentrarse 0.45517892\n",
      "Se está generando una gran cantidad de ruido en el lugar. 0.44699824\n"
     ]
    }
   ],
   "source": [
    "for i in ind:\n",
    "  print(sentences[i], similarity[i])"
   ]
  },
  {
   "cell_type": "code",
   "execution_count": 9,
   "metadata": {},
   "outputs": [
    {
     "name": "stdout",
     "output_type": "stream",
     "text": [
      "ALTERACION DE LA TRANQUILIDAD\n"
     ]
    }
   ],
   "source": [
    "for col in df.columns:\n",
    "    if sentences[ind[0]] in df[col].values:\n",
    "        print(col)"
   ]
  },
  {
   "cell_type": "code",
   "execution_count": null,
   "metadata": {},
   "outputs": [],
   "source": []
  }
 ],
 "metadata": {
  "kernelspec": {
   "display_name": "Police_env",
   "language": "python",
   "name": "python3"
  },
  "language_info": {
   "codemirror_mode": {
    "name": "ipython",
    "version": 3
   },
   "file_extension": ".py",
   "mimetype": "text/x-python",
   "name": "python",
   "nbconvert_exporter": "python",
   "pygments_lexer": "ipython3",
   "version": "3.10.13"
  },
  "orig_nbformat": 4
 },
 "nbformat": 4,
 "nbformat_minor": 2
}
